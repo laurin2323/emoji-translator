{
 "cells": [
  {
   "cell_type": "code",
   "execution_count": 5,
   "id": "67e2aca2",
   "metadata": {},
   "outputs": [
    {
     "data": {
      "text/plain": [
       "'I love coding heartfiresmile'"
      ]
     },
     "execution_count": 5,
     "metadata": {},
     "output_type": "execute_result"
    }
   ],
   "source": [
    "def translate_emojis(text):\n",
    "    mapping = {\n",
    "        \"😊\": \"smile\",\n",
    "        \"😂\": \"laugh\",\n",
    "        \"❤️\": \"heart\",\n",
    "        \"🔥\": \"fire\",\n",
    "        \"👍\": \"thumbs up\",\n",
    "        \"😢\": \"cry\",\n",
    "        \"😎\": \"cool\",\n",
    "        \"💡\": \"idea\"\n",
    "    }\n",
    "    for emoji, word in mapping.items():\n",
    "        text = text.replace(emoji, word)\n",
    "    return text\n",
    "\n",
    "example = \"I love coding ❤️🔥😊\"\n",
    "translate_emojis(example)"
   ]
  },
  {
   "cell_type": "code",
   "execution_count": 6,
   "id": "bfee724b",
   "metadata": {},
   "outputs": [
    {
     "data": {
      "text/plain": [
       "'okay'"
      ]
     },
     "execution_count": 6,
     "metadata": {},
     "output_type": "execute_result"
    }
   ],
   "source": [
    "text = input(\"Gib einen Text mit Emojis ein: \")\n",
    "translate_emojis(text)\n"
   ]
  }
 ],
 "metadata": {
  "kernelspec": {
   "display_name": ".venv (3.13.7)",
   "language": "python",
   "name": "python3"
  },
  "language_info": {
   "codemirror_mode": {
    "name": "ipython",
    "version": 3
   },
   "file_extension": ".py",
   "mimetype": "text/x-python",
   "name": "python",
   "nbconvert_exporter": "python",
   "pygments_lexer": "ipython3",
   "version": "3.13.7"
  }
 },
 "nbformat": 4,
 "nbformat_minor": 5
}
