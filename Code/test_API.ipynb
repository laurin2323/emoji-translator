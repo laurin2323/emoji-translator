{
 "cells": [
  {
   "cell_type": "code",
   "execution_count": null,
   "id": "415feab6",
   "metadata": {},
   "outputs": [],
   "source": [
    "pip install requests"
   ]
  },
  {
   "cell_type": "code",
   "execution_count": null,
   "id": "1451ccfc",
   "metadata": {},
   "outputs": [],
   "source": [
    "import requests\n",
    "\n",
    "# URL deiner Cloud-API auf render.com\n",
    "url = \"https://emoji-translator.onrender.com/translate\"\n",
    "\n",
    "# Beispieltext mit Emojis\n",
    "data = {\"text\": \"Ich liebe ❤️🔥😂\"}\n",
    "\n",
    "# POST-Anfrage an die API senden\n",
    "response = requests.post(url, json=data)\n",
    "\n",
    "# Antwort ausgeben\n",
    "print(\"Status:\", response.status_code)\n",
    "print(\"Antwort:\", response.json())"
   ]
  }
 ],
 "metadata": {
  "language_info": {
   "name": "python"
  }
 },
 "nbformat": 4,
 "nbformat_minor": 5
}
