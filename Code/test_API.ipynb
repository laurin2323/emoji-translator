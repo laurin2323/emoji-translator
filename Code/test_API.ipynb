{
 "cells": [
  {
   "cell_type": "code",
   "execution_count": 1,
   "id": "415feab6",
   "metadata": {},
   "outputs": [
    {
     "name": "stdout",
     "output_type": "stream",
     "text": [
      "Requirement already satisfied: requests in c:\\users\\lauri\\onedrive\\desktop\\fhnw folien\\3 sj\\ai operations\\emoji translator\\.venv\\lib\\site-packages (2.32.5)\n",
      "Requirement already satisfied: charset_normalizer<4,>=2 in c:\\users\\lauri\\onedrive\\desktop\\fhnw folien\\3 sj\\ai operations\\emoji translator\\.venv\\lib\\site-packages (from requests) (3.4.4)\n",
      "Requirement already satisfied: idna<4,>=2.5 in c:\\users\\lauri\\onedrive\\desktop\\fhnw folien\\3 sj\\ai operations\\emoji translator\\.venv\\lib\\site-packages (from requests) (3.11)\n",
      "Requirement already satisfied: urllib3<3,>=1.21.1 in c:\\users\\lauri\\onedrive\\desktop\\fhnw folien\\3 sj\\ai operations\\emoji translator\\.venv\\lib\\site-packages (from requests) (2.5.0)\n",
      "Requirement already satisfied: certifi>=2017.4.17 in c:\\users\\lauri\\onedrive\\desktop\\fhnw folien\\3 sj\\ai operations\\emoji translator\\.venv\\lib\\site-packages (from requests) (2025.10.5)\n",
      "Note: you may need to restart the kernel to use updated packages.\n"
     ]
    }
   ],
   "source": [
    "pip install requests"
   ]
  },
  {
   "cell_type": "code",
   "execution_count": null,
   "id": "1451ccfc",
   "metadata": {},
   "outputs": [],
   "source": [
    "import requests\n",
    "\n",
    "# URL deiner Cloud-API auf render.com\n",
    "url = \"https://emoji-translator-2rwa.onrender.com/\"\n",
    "\n",
    "# Beispieltext mit Emojis\n",
    "data = {\"text\": \"Ich liebe ❤️🔥😂\"}\n",
    "\n",
    "# POST-Anfrage an die API senden\n",
    "response = requests.post(url, json=data)\n",
    "\n",
    "# Antwort ausgeben\n",
    "print(\"Status:\", response.status_code)\n",
    "print(\"Antwort:\", response.json())"
   ]
  }
 ],
 "metadata": {
  "kernelspec": {
   "display_name": ".venv (3.13.7)",
   "language": "python",
   "name": "python3"
  },
  "language_info": {
   "codemirror_mode": {
    "name": "ipython",
    "version": 3
   },
   "file_extension": ".py",
   "mimetype": "text/x-python",
   "name": "python",
   "nbconvert_exporter": "python",
   "pygments_lexer": "ipython3",
   "version": "3.13.7"
  }
 },
 "nbformat": 4,
 "nbformat_minor": 5
}
